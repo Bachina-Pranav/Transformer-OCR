{
 "cells": [
  {
   "cell_type": "code",
   "execution_count": null,
   "metadata": {},
   "outputs": [],
   "source": [
    "import numpy as np\n",
    "import torch\n",
    "import torchvision.transforms as transforms\n",
    "from PIL import Image"
   ]
  },
  {
   "cell_type": "code",
   "execution_count": null,
   "metadata": {},
   "outputs": [],
   "source": [
    "# Create a small example array (3x3 RGB image with values in the range [0, 255])\n",
    "example_array = np.array([\n",
    "    [[255, 0, 0], [0, 255, 0], [0, 0, 255]],\n",
    "    [[255, 255, 0], [0, 255, 255], [255, 0, 255]],\n",
    "    [[128, 128, 128], [64, 64, 64], [32, 32, 32]]\n",
    "], dtype=np.uint8)\n",
    "\n",
    "\n",
    "\n",
    "# Define the ToTensor transform\n",
    "to_tensor = transforms.ToTensor()\n",
    "\n",
    "# Apply the transform to the PIL Image\n",
    "tensor_image = to_tensor(example_image)\n",
    "\n",
    "print(\"Original NumPy array:\")\n",
    "print(example_array)\n",
    "print(\"\\nTransformed tensor:\")\n",
    "print(tensor_image)\n"
   ]
  }
 ],
 "metadata": {
  "language_info": {
   "name": "python"
  }
 },
 "nbformat": 4,
 "nbformat_minor": 2
}
